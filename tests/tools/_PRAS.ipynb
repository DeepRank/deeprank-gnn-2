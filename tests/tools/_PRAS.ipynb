{
 "cells": [
  {
   "cell_type": "markdown",
   "metadata": {},
   "source": [
    "Testing PRAS functionality\n"
   ]
  },
  {
   "cell_type": "code",
   "execution_count": null,
   "metadata": {},
   "outputs": [],
   "source": [
    "# ruff: noqa"
   ]
  },
  {
   "cell_type": "code",
   "execution_count": 62,
   "metadata": {},
   "outputs": [
    {
     "name": "stdout",
     "output_type": "stream",
     "text": [
      "fixed /home/dbodor/git/DeepRank/DeepRank2/tests/Untitled_3C8P_pdbprep_joao.pdb.pdb\n"
     ]
    }
   ],
   "source": [
    "from Pras_Server.RunType import InitRunType\n",
    "\n",
    "fixing = InitRunType(\n",
    "    rotamer=\"\",\n",
    "    mutation=\"\",\n",
    "    pdb_faspr=\"\",\n",
    "    keep_ligand=\"\",\n",
    "    chain_no=\"\",\n",
    "    addh=False,\n",
    "    ss=False,\n",
    "    raman=False,\n",
    "    ofname=False,\n",
    "    pdbid=False,\n",
    "    his_p=False,\n",
    ")\n",
    "\n",
    "pdbs = [\"/home/dbodor/git/DeepRank/DeepRank2/tests/Untitled_3C8P_pdbprep_joao.pdb\"]\n",
    "fixing.pdbid = pdbs\n",
    "\n",
    "fixing.ProcessOther()"
   ]
  },
  {
   "cell_type": "code",
   "execution_count": 67,
   "metadata": {},
   "outputs": [],
   "source": [
    "from pathlib import Path\n",
    "from pprint import pprint\n",
    "\n",
    "with Path(\"/home/dbodor/git/DeepRank/DeepRank2/tests/Untitled_3C8P_pdbprep_joao.pdb\").open(\"r\") as f:\n",
    "    orig = f.read().splitlines()\n",
    "\n",
    "with Path(\"/home/dbodor/git/DeepRank/DeepRank2/tests/Untitled_3C8P_pras_local.pdb\").open(\"r\") as f:\n",
    "    fixed = f.read().splitlines()[1:]\n",
    "\n",
    "with Path(\"/home/dbodor/git/DeepRank/DeepRank2/tests/Untitled_3C8P_pras_joao.pdb\").open(\"r\") as f:\n",
    "    joao = f.read().splitlines()[1:]\n",
    "\n",
    "\n",
    "# fixed[0].strip() == orig[0].strip()\n",
    "# orig[0].strip()\n",
    "\n",
    "for i, x in enumerate(fixed):\n",
    "    if x.strip() != joao[i].strip():\n",
    "        print(i)\n",
    "\n",
    "# fixed[0].strip() == joao[0].strip()"
   ]
  },
  {
   "cell_type": "code",
   "execution_count": null,
   "metadata": {},
   "outputs": [],
   "source": [
    "import os\n",
    "import sys\n",
    "import time\n",
    "\n",
    "from Pras_Server.RunType import InitRunType\n",
    "\n",
    "startTime = time.time()\n",
    "out = [\n",
    "    \"xxxx.pdb\",\n",
    "    \"zzzz.pdb\",\n",
    "    \"ssss.pdb\",\n",
    "]  # size of this list MUST be equal to the total number of PDB structures in your working directory\n",
    "k = 0\n",
    "for i in os.listdir(os.getcwd()):\n",
    "    if i.endswith(\".pdb\") or i.endswith(\".ent\"):\n",
    "        try:\n",
    "            out[k]\n",
    "        except:\n",
    "            print(\"Index error. Size of the name list is small\")\n",
    "            sys.exit()\n",
    "        fixing = InitRunType(\n",
    "            rotamer=\"\",\n",
    "            mutation=\"\",\n",
    "            pdb_faspr=\"\",\n",
    "            keep_ligand=\"\",\n",
    "            chain_no=\"\",\n",
    "            addh=False,\n",
    "            ss=False,\n",
    "            raman=False,\n",
    "            ofname=out[k],\n",
    "            pdbid=False,\n",
    "            his_p=False,\n",
    "        )\n",
    "        fixing.fname = i\n",
    "        fixing.ProcessOther()\n",
    "        k += 1\n",
    "print(f\"The program took {time.time() - startTime} second !\")"
   ]
  },
  {
   "cell_type": "code",
   "execution_count": 70,
   "metadata": {},
   "outputs": [],
   "source": [
    "string = \"fsvfdskl\"\n",
    "\n",
    "with open(\"Output.txt\", \"w\") as text_file:\n",
    "    print(string, file=text_file)"
   ]
  }
 ],
 "metadata": {
  "kernelspec": {
   "display_name": "DR2",
   "language": "python",
   "name": "python3"
  },
  "language_info": {
   "codemirror_mode": {
    "name": "ipython",
    "version": 3
   },
   "file_extension": ".py",
   "mimetype": "text/x-python",
   "name": "python",
   "nbconvert_exporter": "python",
   "pygments_lexer": "ipython3",
   "version": "3.10.12"
  }
 },
 "nbformat": 4,
 "nbformat_minor": 2
}
