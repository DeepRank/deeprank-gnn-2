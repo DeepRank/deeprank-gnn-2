{
 "cells": [
  {
   "cell_type": "code",
   "execution_count": 10,
   "metadata": {},
   "outputs": [],
   "source": [
    "from pdb2sql import interface as pdb2sql_interface\n",
    "from pdb2sql import pdb2sql as pdb2sql_object\n",
    "from pprint import pprint\n"
   ]
  },
  {
   "cell_type": "code",
   "execution_count": 11,
   "metadata": {},
   "outputs": [],
   "source": [
    "pdb_path = '/home/dbodor/git/DeepRank/deeprank-core/tests/data/pdb/1A0Z/1A0Z.pdb'\n",
    "\n",
    "interaction_radius = 5\n",
    "chain_id1 = 'A'\n",
    "chain_id2 = 'B'\n"
   ]
  },
  {
   "cell_type": "code",
   "execution_count": 19,
   "metadata": {},
   "outputs": [],
   "source": [
    "from deeprank2.utils.buildgraph import get_contact_atoms\n",
    "\n",
    "interface = pdb2sql_interface(pdb_path)\n",
    "try:\n",
    "    contact_residues = interface.get_contact_residues(\n",
    "        cutoff=interaction_radius,\n",
    "        chain1=chain_id1,\n",
    "        chain2=chain_id2,\n",
    "        return_contact_pairs=True,\n",
    "    )\n",
    "    # contact_atoms = interface.get_contact_atoms(\n",
    "    #     cutoff=interaction_radius,\n",
    "    #     chain1=chain_id1,\n",
    "    #     chain2=chain_id2,\n",
    "    #     return_contact_pairs=True,\n",
    "    # )\n",
    "\n",
    "finally:\n",
    "    interface._close() # pylint: disable=protected-access\n"
   ]
  },
  {
   "cell_type": "code",
   "execution_count": 21,
   "metadata": {},
   "outputs": [
    {
     "data": {
      "text/plain": [
       "set"
      ]
     },
     "execution_count": 21,
     "metadata": {},
     "output_type": "execute_result"
    }
   ],
   "source": [
    "contact_atoms = [1,2,3,4]\n",
    "\n",
    "residues_selected = {atom for atom in contact_atoms}\n",
    "\n",
    "type(residues_selected)\n"
   ]
  },
  {
   "cell_type": "code",
   "execution_count": 26,
   "metadata": {},
   "outputs": [
    {
     "name": "stdout",
     "output_type": "stream",
     "text": [
      "fsdfsd\n",
      "fsdjkf\n"
     ]
    }
   ],
   "source": [
    "A = ['fsdfsd','fsdjkf']\n",
    "\n",
    "for x in A:\n",
    "    print(x)\n"
   ]
  }
 ],
 "metadata": {
  "kernelspec": {
   "display_name": "DR2",
   "language": "python",
   "name": "python3"
  },
  "language_info": {
   "codemirror_mode": {
    "name": "ipython",
    "version": 3
   },
   "file_extension": ".py",
   "mimetype": "text/x-python",
   "name": "python",
   "nbconvert_exporter": "python",
   "pygments_lexer": "ipython3",
   "version": "3.10.12"
  },
  "orig_nbformat": 4
 },
 "nbformat": 4,
 "nbformat_minor": 2
}
